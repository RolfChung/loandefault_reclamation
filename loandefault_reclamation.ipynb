{
 "cells": [
  {
   "cell_type": "markdown",
   "metadata": {},
   "source": [
    "# Summary"
   ]
  },
  {
   "cell_type": "markdown",
   "metadata": {},
   "source": [
    "Sometimes borrowers are not paying back their loans from back.\n",
    "Bad debt is written off by the banks, but even then different strategies can\n",
    "be applied to collect at least some amount of the credit amount for\n",
    "example by making a phone call and talk personally to the customer.\n",
    "\n",
    "However, is the gain to collect a part of the sum worth the effort?\n",
    "Given some assumptions about the defaulter the bank can come up with an\n",
    "expected recovery amount. The higher the expected recovery amount the more\n",
    "effort should the bank put into collection. The higher the effort the higher the cost (\\$50 per recovery level). Based on this the bank implements\n",
    "different recovery strategies or a bundle of actions at different levels or thresholds of expected recovery amounts (1000, 2000, 3000, 5000).\n",
    "The additional cost at each threshold must be at least covered by the\n",
    "additional collection. Is this the case?\n",
    "\n",
    "Still does the recovery system work?\n",
    "The bank has conducted this approach for some time and has gathered data\n",
    "about actual recovery amounts. A simple approach would be to calculate the\n",
    "difference between actual recovery amounts and expected recovery amounts.\n",
    "The overall difference is positive for this sample is positive.\n",
    "However even if the overall difference is positive for this sample is positive. this \"snapshot\" says nothing about the significance of the\n",
    "difference. Is the sample of recovery amounts generalizable\n",
    "to the population of recovery amounts?\n",
    "For this conclusion methods of statistical inference are necessary.\n",
    "\n",
    "<p>\n",
    "This project methods of data munging, visualization and inferential statistic:\n",
    "</p>\n",
    "\n",
    "<ul>\n",
    "<li>data import</li>\n",
    "<li>data exploration</li>\n",
    "<li>statistics</li>\n",
    "<li>data aggregation</li>\n",
    "<li>data visualization</li>\n",
    "<li>Kruskal-Wallis H-test</li>\n",
    "<li>Chi-square test</li>\n",
    "<li>Regression analysis</li>\n",
    "\n",
    "</ul>\n",
    "\n",
    "<p>\n",
    "Comments are and explanations are given within the coding.\n",
    "A conclusion is made at the end.\n",
    "</p> "
   ]
  },
  {
   "cell_type": "code",
   "execution_count": 1,
   "metadata": {},
   "outputs": [
    {
     "name": "stdout",
     "output_type": "stream",
     "text": [
      "numpy version:  1.16.2\n"
     ]
    }
   ],
   "source": [
    "import pandas as pd\n",
    "import matplotlib.pyplot as plt\n",
    "%matplotlib inline\n",
    "from matplotlib.pyplot import cm\n",
    "from mpl_toolkits.mplot3d import Axes3D\n",
    "import seaborn as sns\n",
    "import numpy as np\n",
    "print(\"numpy version: \", np.__version__)\n",
    "import scipy.stats\n",
    "from scipy import stats\n",
    "import statsmodels.api as sm\n",
    "import math\n",
    "import os\n",
    "import types\n",
    "from random import sample\n",
    "from random import choices\n",
    "import random\n",
    "import warnings\n"
   ]
  },
  {
   "cell_type": "code",
   "execution_count": 62,
   "metadata": {},
   "outputs": [],
   "source": [
    "working_directory = os.getcwd()"
   ]
  },
  {
   "cell_type": "markdown",
   "metadata": {},
   "source": [
    "### Import the data"
   ]
  },
  {
   "cell_type": "code",
   "execution_count": 3,
   "metadata": {},
   "outputs": [],
   "source": [
    "debt = pd.read_csv('debtrecoverydata_complete_2.csv', sep=';',\n",
    "                   header=0, index_col='index')"
   ]
  },
  {
   "cell_type": "markdown",
   "metadata": {},
   "source": [
    "### Explore the data"
   ]
  },
  {
   "cell_type": "code",
   "execution_count": 4,
   "metadata": {},
   "outputs": [
    {
     "data": {
      "text/plain": [
       "(1882, 6)"
      ]
     },
     "execution_count": 4,
     "metadata": {},
     "output_type": "execute_result"
    }
   ],
   "source": [
    "debt.shape"
   ]
  },
  {
   "cell_type": "code",
   "execution_count": 5,
   "metadata": {},
   "outputs": [
    {
     "name": "stdout",
     "output_type": "stream",
     "text": [
      "<class 'pandas.core.frame.DataFrame'>\n",
      "Int64Index: 1882 entries, 0 to 1881\n",
      "Data columns (total 6 columns):\n",
      "id                          1882 non-null int64\n",
      "expected_recovery_amount    1882 non-null int64\n",
      "actual_recovery_amount      1882 non-null int64\n",
      "recovery_strategy           1882 non-null object\n",
      "age                         1882 non-null int64\n",
      "sex                         1882 non-null object\n",
      "dtypes: int64(4), object(2)\n",
      "memory usage: 102.9+ KB\n"
     ]
    }
   ],
   "source": [
    "debt.info()"
   ]
  },
  {
   "cell_type": "code",
   "execution_count": 6,
   "metadata": {},
   "outputs": [
    {
     "data": {
      "text/html": [
       "<div>\n",
       "<style scoped>\n",
       "    .dataframe tbody tr th:only-of-type {\n",
       "        vertical-align: middle;\n",
       "    }\n",
       "\n",
       "    .dataframe tbody tr th {\n",
       "        vertical-align: top;\n",
       "    }\n",
       "\n",
       "    .dataframe thead th {\n",
       "        text-align: right;\n",
       "    }\n",
       "</style>\n",
       "<table border=\"1\" class=\"dataframe\">\n",
       "  <thead>\n",
       "    <tr style=\"text-align: right;\">\n",
       "      <th></th>\n",
       "      <th>id</th>\n",
       "      <th>expected_recovery_amount</th>\n",
       "      <th>actual_recovery_amount</th>\n",
       "      <th>recovery_strategy</th>\n",
       "      <th>age</th>\n",
       "      <th>sex</th>\n",
       "    </tr>\n",
       "    <tr>\n",
       "      <th>index</th>\n",
       "      <th></th>\n",
       "      <th></th>\n",
       "      <th></th>\n",
       "      <th></th>\n",
       "      <th></th>\n",
       "      <th></th>\n",
       "    </tr>\n",
       "  </thead>\n",
       "  <tbody>\n",
       "    <tr>\n",
       "      <th>0</th>\n",
       "      <td>2030</td>\n",
       "      <td>194</td>\n",
       "      <td>264</td>\n",
       "      <td>Level0Recovery</td>\n",
       "      <td>19</td>\n",
       "      <td>Male</td>\n",
       "    </tr>\n",
       "    <tr>\n",
       "      <th>1</th>\n",
       "      <td>1150</td>\n",
       "      <td>486</td>\n",
       "      <td>416</td>\n",
       "      <td>Level0Recovery</td>\n",
       "      <td>25</td>\n",
       "      <td>Female</td>\n",
       "    </tr>\n",
       "    <tr>\n",
       "      <th>2</th>\n",
       "      <td>380</td>\n",
       "      <td>527</td>\n",
       "      <td>429</td>\n",
       "      <td>Level0Recovery</td>\n",
       "      <td>27</td>\n",
       "      <td>Male</td>\n",
       "    </tr>\n",
       "    <tr>\n",
       "      <th>3</th>\n",
       "      <td>1838</td>\n",
       "      <td>536</td>\n",
       "      <td>297</td>\n",
       "      <td>Level0Recovery</td>\n",
       "      <td>25</td>\n",
       "      <td>Male</td>\n",
       "    </tr>\n",
       "    <tr>\n",
       "      <th>4</th>\n",
       "      <td>1995</td>\n",
       "      <td>541</td>\n",
       "      <td>346</td>\n",
       "      <td>Level0Recovery</td>\n",
       "      <td>34</td>\n",
       "      <td>Male</td>\n",
       "    </tr>\n",
       "  </tbody>\n",
       "</table>\n",
       "</div>"
      ],
      "text/plain": [
       "         id  expected_recovery_amount  actual_recovery_amount  \\\n",
       "index                                                           \n",
       "0      2030                       194                     264   \n",
       "1      1150                       486                     416   \n",
       "2       380                       527                     429   \n",
       "3      1838                       536                     297   \n",
       "4      1995                       541                     346   \n",
       "\n",
       "      recovery_strategy  age     sex  \n",
       "index                                 \n",
       "0        Level0Recovery   19    Male  \n",
       "1        Level0Recovery   25  Female  \n",
       "2        Level0Recovery   27    Male  \n",
       "3        Level0Recovery   25    Male  \n",
       "4        Level0Recovery   34    Male  "
      ]
     },
     "execution_count": 6,
     "metadata": {},
     "output_type": "execute_result"
    }
   ],
   "source": [
    "debt.head()"
   ]
  },
  {
   "cell_type": "code",
   "execution_count": 7,
   "metadata": {},
   "outputs": [
    {
     "data": {
      "text/html": [
       "<div>\n",
       "<style scoped>\n",
       "    .dataframe tbody tr th:only-of-type {\n",
       "        vertical-align: middle;\n",
       "    }\n",
       "\n",
       "    .dataframe tbody tr th {\n",
       "        vertical-align: top;\n",
       "    }\n",
       "\n",
       "    .dataframe thead th {\n",
       "        text-align: right;\n",
       "    }\n",
       "</style>\n",
       "<table border=\"1\" class=\"dataframe\">\n",
       "  <thead>\n",
       "    <tr style=\"text-align: right;\">\n",
       "      <th></th>\n",
       "      <th>id</th>\n",
       "      <th>expected_recovery_amount</th>\n",
       "      <th>actual_recovery_amount</th>\n",
       "      <th>recovery_strategy</th>\n",
       "      <th>age</th>\n",
       "      <th>sex</th>\n",
       "    </tr>\n",
       "    <tr>\n",
       "      <th>index</th>\n",
       "      <th></th>\n",
       "      <th></th>\n",
       "      <th></th>\n",
       "      <th></th>\n",
       "      <th></th>\n",
       "      <th></th>\n",
       "    </tr>\n",
       "  </thead>\n",
       "  <tbody>\n",
       "    <tr>\n",
       "      <th>1877</th>\n",
       "      <td>361</td>\n",
       "      <td>9785</td>\n",
       "      <td>15388</td>\n",
       "      <td>Level4Recovery</td>\n",
       "      <td>65</td>\n",
       "      <td>Female</td>\n",
       "    </tr>\n",
       "    <tr>\n",
       "      <th>1878</th>\n",
       "      <td>196</td>\n",
       "      <td>9857</td>\n",
       "      <td>9710</td>\n",
       "      <td>Level4Recovery</td>\n",
       "      <td>68</td>\n",
       "      <td>Female</td>\n",
       "    </tr>\n",
       "    <tr>\n",
       "      <th>1879</th>\n",
       "      <td>313</td>\n",
       "      <td>9859</td>\n",
       "      <td>30209</td>\n",
       "      <td>Level4Recovery</td>\n",
       "      <td>58</td>\n",
       "      <td>Female</td>\n",
       "    </tr>\n",
       "    <tr>\n",
       "      <th>1880</th>\n",
       "      <td>1781</td>\n",
       "      <td>9920</td>\n",
       "      <td>20386</td>\n",
       "      <td>Level4Recovery</td>\n",
       "      <td>67</td>\n",
       "      <td>Female</td>\n",
       "    </tr>\n",
       "    <tr>\n",
       "      <th>1881</th>\n",
       "      <td>522</td>\n",
       "      <td>9964</td>\n",
       "      <td>16706</td>\n",
       "      <td>Level4Recovery</td>\n",
       "      <td>53</td>\n",
       "      <td>Male</td>\n",
       "    </tr>\n",
       "  </tbody>\n",
       "</table>\n",
       "</div>"
      ],
      "text/plain": [
       "         id  expected_recovery_amount  actual_recovery_amount  \\\n",
       "index                                                           \n",
       "1877    361                      9785                   15388   \n",
       "1878    196                      9857                    9710   \n",
       "1879    313                      9859                   30209   \n",
       "1880   1781                      9920                   20386   \n",
       "1881    522                      9964                   16706   \n",
       "\n",
       "      recovery_strategy  age     sex  \n",
       "index                                 \n",
       "1877     Level4Recovery   65  Female  \n",
       "1878     Level4Recovery   68  Female  \n",
       "1879     Level4Recovery   58  Female  \n",
       "1880     Level4Recovery   67  Female  \n",
       "1881     Level4Recovery   53    Male  "
      ]
     },
     "execution_count": 7,
     "metadata": {},
     "output_type": "execute_result"
    }
   ],
   "source": [
    "debt.tail()"
   ]
  },
  {
   "cell_type": "code",
   "execution_count": 8,
   "metadata": {},
   "outputs": [
    {
     "name": "stdout",
     "output_type": "stream",
     "text": [
      "<class 'pandas.core.frame.DataFrame'>\n",
      "                id  expected_recovery_amount  actual_recovery_amount  \\\n",
      "count  1882.000000               1882.000000             1882.000000   \n",
      "mean   1035.596174               2759.967588             4000.965994   \n",
      "std     591.458429               2019.826565             4576.498493   \n",
      "min       6.000000                194.000000              200.000000   \n",
      "25%     534.250000               1261.250000             1045.000000   \n",
      "50%    1029.500000               2062.000000             2115.500000   \n",
      "75%    1551.750000               3569.500000             5417.500000   \n",
      "max    2056.000000               9964.000000            34398.000000   \n",
      "\n",
      "               age  \n",
      "count  1882.000000  \n",
      "mean     39.650372  \n",
      "std      15.453072  \n",
      "min      18.000000  \n",
      "25%      28.000000  \n",
      "50%      35.000000  \n",
      "75%      50.000000  \n",
      "max      84.000000  \n"
     ]
    }
   ],
   "source": [
    "statistics = debt.describe()\n",
    "print(type(statistics))\n",
    "print(statistics)\n"
   ]
  },
  {
   "cell_type": "code",
   "execution_count": 9,
   "metadata": {},
   "outputs": [
    {
     "data": {
      "text/plain": [
       "id                           2050\n",
       "expected_recovery_amount     9770\n",
       "actual_recovery_amount      34198\n",
       "age                            66\n",
       "dtype: int32"
      ]
     },
     "execution_count": 9,
     "metadata": {},
     "output_type": "execute_result"
    }
   ],
   "source": [
    "spread = statistics.loc['max'] - statistics.loc['min']\n",
    "spread.astype('int')"
   ]
  },
  {
   "cell_type": "markdown",
   "metadata": {},
   "source": [
    "#### Difference between actual recovery amounts and expected recovery amounts."
   ]
  },
  {
   "cell_type": "code",
   "execution_count": 59,
   "metadata": {},
   "outputs": [
    {
     "data": {
      "text/plain": [
       "2335559"
      ]
     },
     "execution_count": 59,
     "metadata": {},
     "output_type": "execute_result"
    }
   ],
   "source": [
    "diff_amount = debt['actual_recovery_amount'] - debt['expected_recovery_amount']\n",
    "diff_amount[:5]\n",
    "diff_amount.sum()"
   ]
  },
  {
   "cell_type": "code",
   "execution_count": null,
   "metadata": {},
   "outputs": [],
   "source": [
    "The overall difference is positive for this sample is positive.\n",
    "However this \"snapshot\" says nothing about the significance of the\n",
    "difference. For this conclusion methods of statistical inference are\n",
    "necessary."
   ]
  },
  {
   "cell_type": "markdown",
   "metadata": {},
   "source": [
    "### Aggregation"
   ]
  },
  {
   "cell_type": "code",
   "execution_count": 10,
   "metadata": {},
   "outputs": [
    {
     "name": "stdout",
     "output_type": "stream",
     "text": [
      "<class 'pandas.core.frame.DataFrame'>\n",
      "                    min   max  range\n",
      "recovery_strategy                   \n",
      "Level0Recovery      194  1000    806\n",
      "Level1Recovery     1001  1997    996\n",
      "Level2Recovery     2001  2992    991\n",
      "Level3Recovery     3002  4987   1985\n",
      "Level4Recovery     5008  9964   4956\n",
      "(5, 3)\n",
      "Index(['Level0Recovery', 'Level1Recovery', 'Level2Recovery', 'Level3Recovery',\n",
      "       'Level4Recovery'],\n",
      "      dtype='object', name='recovery_strategy')\n"
     ]
    }
   ],
   "source": [
    "# Determining the spread of the recovery levels.\n",
    "recover_agg = debt.groupby('recovery_strategy')['expected_recovery_amount'].aggregate(['min', 'max'])\n",
    "print(type(recover_agg))\n",
    "recover_agg['range'] = recover_agg['max'] - recover_agg['min']\n",
    "print(recover_agg )\n",
    "print(recover_agg.shape)\n",
    "print(recover_agg.index)"
   ]
  },
  {
   "cell_type": "code",
   "execution_count": 11,
   "metadata": {},
   "outputs": [
    {
     "name": "stdout",
     "output_type": "stream",
     "text": [
      "<class 'pandas.core.frame.DataFrame'>\n",
      "  threshold_areas   min   low    up\n",
      "0   threshold_0_1  1001   901  1101\n",
      "1   threshold_1_2  2001  1901  2101\n",
      "2   threshold_2_3  3002  2902  3102\n",
      "3   threshold_3_4  5008  4908  5108\n"
     ]
    }
   ],
   "source": [
    "# subsetting minimum colum from recover_agg above, \n",
    "# this are threshold values\n",
    "recover_agg_min = recover_agg.loc['Level1Recovery':'Level4Recovery','min']\n",
    "thresholds_df = recover_agg_min.to_frame()\n",
    "thresholds_df.reset_index(inplace=True)\n",
    "\n",
    "thresholds_df['low'] = thresholds_df['min'] - 100\n",
    "thresholds_df['up'] = thresholds_df['min'] + 100\n",
    "thresholds_df['recovery_strategy'] = ['threshold_0_1', 'threshold_1_2', 'threshold_2_3', 'threshold_3_4']\n",
    "thresholds_df.rename(columns={'recovery_strategy': 'threshold_areas'}, inplace=True)\n",
    "\n",
    "print(type(thresholds_df))\n",
    "print(thresholds_df)\n",
    "\n"
   ]
  },
  {
   "cell_type": "code",
   "execution_count": 12,
   "metadata": {},
   "outputs": [
    {
     "name": "stdout",
     "output_type": "stream",
     "text": [
      "[901, 1901, 2902, 4908]\n",
      "[1101, 2101, 3102, 5108]\n",
      "['threshold_0_1', 'threshold_1_2', 'threshold_2_3', 'threshold_3_4']\n"
     ]
    }
   ],
   "source": [
    "# Creating lower and upper boundaries\n",
    "low = thresholds_df.low.to_list()\n",
    "print(low)\n",
    "up = thresholds_df.up.to_list()\n",
    "print(up)\n",
    "threshold_areas = thresholds_df.threshold_areas.to_list()\n",
    "print(threshold_areas)"
   ]
  },
  {
   "cell_type": "code",
   "execution_count": 13,
   "metadata": {},
   "outputs": [
    {
     "name": "stdout",
     "output_type": "stream",
     "text": [
      "901 1101\n",
      "1901 2101\n",
      "2902 3102\n",
      "4908 5108\n"
     ]
    }
   ],
   "source": [
    "# check boundaries\n",
    "for i,m  in zip(low,up):\n",
    "    print(i,m)"
   ]
  },
  {
   "cell_type": "markdown",
   "metadata": {},
   "source": [
    "## Plotting variables"
   ]
  },
  {
   "cell_type": "code",
   "execution_count": 14,
   "metadata": {},
   "outputs": [
    {
     "name": "stdout",
     "output_type": "stream",
     "text": [
      "(1882, 4)\n",
      "<class 'pandas.core.frame.DataFrame'>\n"
     ]
    }
   ],
   "source": [
    "int_cols = debt.select_dtypes(include='int64')\n",
    "print(int_cols.shape)\n",
    "print(type(int_cols))"
   ]
  },
  {
   "cell_type": "markdown",
   "metadata": {},
   "source": [
    "#### Numerical variables"
   ]
  },
  {
   "cell_type": "code",
   "execution_count": 15,
   "metadata": {},
   "outputs": [
    {
     "data": {
      "text/plain": [
       "['id', 'expected_recovery_amount', 'actual_recovery_amount', 'age']"
      ]
     },
     "execution_count": 15,
     "metadata": {},
     "output_type": "execute_result"
    }
   ],
   "source": [
    "intcols_names = int_cols.columns.to_list()\n",
    "intcols_names"
   ]
  },
  {
   "cell_type": "code",
   "execution_count": 16,
   "metadata": {},
   "outputs": [
    {
     "data": {
      "image/png": "[encoded data removed]",
      "text/plain": [
       "<Figure size 1008x432 with 4 Axes>"
      ]
     },
     "metadata": {
      "needs_background": "light"
     },
     "output_type": "display_data"
    }
   ],
   "source": [
    "color_list=['#f58231', '#911eb4', '#46f0f0', '#f032e6', '#bcf60c', '#fabebe',\n",
    "            '#f58231', '#911eb4', '#46f0f0', '#f032e6', '#bcf60c', '#fabebe',\n",
    "            '#f58231', '#911eb4', '#46f0f0', '#f032e6']\n",
    "\n",
    "fig = plt.figure(figsize=(14,6))\n",
    "fig.subplots_adjust(hspace=0.6, wspace=0.8)\n",
    "fig.suptitle(\"Distribution of numerical variables\")\n",
    "for u,(i,j) in enumerate(zip(range(1,5), intcols_names)):\n",
    "        ax = fig.add_subplot(2, 2, i)\n",
    "        ax = int_cols[j].plot.hist(color=color_list[i], edgecolor=\"black\",\n",
    "                                  title=intcols_names[u], linewidth=3)"
   ]
  },
  {
   "cell_type": "code",
   "execution_count": 17,
   "metadata": {},
   "outputs": [
    {
     "data": {
      "image/png": "[encoded data removed]",
      "text/plain": [
       "<Figure size 1080x504 with 4 Axes>"
      ]
     },
     "metadata": {
      "needs_background": "light"
     },
     "output_type": "display_data"
    }
   ],
   "source": [
    "fig, axes= plt.subplots(2,2, figsize=(15,7))\n",
    "fig.subplots_adjust(hspace=0.6, wspace=0.2)\n",
    "fig.suptitle(\"expected_recovery_amount versus age and actual_recovery_amount\")\n",
    "\n",
    "axes[0,0].scatter(debt['expected_recovery_amount'], debt['age'], c='r', edgecolor='black')\n",
    "axes[0,0].set_xlabel('expected_recovery_amount')\n",
    "axes[0,0].set_ylabel('age')\n",
    "\n",
    "axes[0,1].scatter(debt['expected_recovery_amount'], debt['age'], c='r', edgecolor='black')\n",
    "axes[0,1].set_xlim(1900,2100)\n",
    "axes[0,1].set_xlabel('expected_recovery_amount within limit 1900 to 2100')\n",
    "axes[0,1].set_ylabel('age')\n",
    "\n",
    "\n",
    "axes[1,0].scatter(debt['expected_recovery_amount'], debt['actual_recovery_amount'], c='g', edgecolor='black')\n",
    "axes[1,0].set_ylabel('actual_recovery_amount')\n",
    "axes[1,0].set_xlabel('expected_recovery_amount')\n",
    "\n",
    "axes[1,1].scatter(debt['expected_recovery_amount'], debt['actual_recovery_amount'], c='g', edgecolor='black')\n",
    "axes[1,1].set_xlim(1900,2100)\n",
    "axes[1,1].set_ylabel('actual_recovery_amount')\n",
    "axes[1,1].set_xlabel('expected_recovery_amount within limit 1900 to 2100')\n",
    "\n",
    "plt.show()"
   ]
  },
  {
   "cell_type": "markdown",
   "metadata": {},
   "source": [
    "#### Categorical variables"
   ]
  },
  {
   "cell_type": "code",
   "execution_count": 18,
   "metadata": {},
   "outputs": [
    {
     "name": "stdout",
     "output_type": "stream",
     "text": [
      "(1882, 2)\n",
      "['recovery_strategy', 'sex']\n"
     ]
    }
   ],
   "source": [
    "cat_cols = debt.select_dtypes(include='object')\n",
    "cat_cols_names = cat_cols.columns.to_list()\n",
    "print(cat_cols.shape)\n",
    "print(cat_cols_names)"
   ]
  },
  {
   "cell_type": "code",
   "execution_count": 19,
   "metadata": {},
   "outputs": [
    {
     "name": "stdout",
     "output_type": "stream",
     "text": [
      "0 recovery_strategy\n",
      "1 sex\n"
     ]
    }
   ],
   "source": [
    "for i, b in enumerate(cat_cols):\n",
    "    print(i,b)"
   ]
  },
  {
   "cell_type": "code",
   "execution_count": 20,
   "metadata": {},
   "outputs": [
    {
     "data": {
      "image/png": "[encoded data removed]",
      "text/plain": [
       "<Figure size 1080x288 with 2 Axes>"
      ]
     },
     "metadata": {
      "needs_background": "light"
     },
     "output_type": "display_data"
    }
   ],
   "source": [
    "fig = plt.figure(figsize=(15,4))\n",
    "plt.suptitle(\"Count of categorical variables\")\n",
    "for j, (u,n) in enumerate(zip(range(1,3), cat_cols_names)):\n",
    "    ax = fig.add_subplot(1,2, u)\n",
    "    ax = cat_cols[n].value_counts().plot.bar(title = cat_cols_names[j],\n",
    "                                             color = ['r', 'g'],\n",
    "                                             edgecolor='black', linewidth=3)"
   ]
  },
  {
   "cell_type": "code",
   "execution_count": 21,
   "metadata": {},
   "outputs": [
    {
     "data": {
      "image/png": "[encoded data removed]",
      "text/plain": [
       "<Figure size 360x360 with 1 Axes>"
      ]
     },
     "metadata": {
      "needs_background": "light"
     },
     "output_type": "display_data"
    }
   ],
   "source": [
    "g=sns.catplot(x=\"sex\", y='expected_recovery_amount', kind=\"swarm\", data=debt);\n"
   ]
  },
  {
   "cell_type": "code",
   "execution_count": 22,
   "metadata": {},
   "outputs": [
    {
     "data": {
      "image/png": "[encoded data removed]",
      "text/plain": [
       "<Figure size 360x360 with 1 Axes>"
      ]
     },
     "metadata": {
      "needs_background": "light"
     },
     "output_type": "display_data"
    }
   ],
   "source": [
    "ax=sns.catplot(x=\"recovery_strategy\", y='expected_recovery_amount', kind=\"swarm\", data=debt)\n",
    "ax.set_xticklabels(rotation=90);"
   ]
  },
  {
   "cell_type": "code",
   "execution_count": 23,
   "metadata": {},
   "outputs": [
    {
     "data": {
      "image/png": "[encoded data removed]",
      "text/plain": [
       "<Figure size 864x288 with 2 Axes>"
      ]
     },
     "metadata": {
      "needs_background": "light"
     },
     "output_type": "display_data"
    }
   ],
   "source": [
    "fig = plt.figure(figsize=(12,4))\n",
    "ax1 = fig.add_subplot(1,2,1)\n",
    "ax2 = fig.add_subplot(1,2,2)\n",
    "\n",
    "cost=np.arange(0,250,50 )\n",
    "levels=debt.recovery_strategy.unique().tolist()\n",
    "\n",
    "ax1 = sns.barplot(x=levels, y=cost, ax=ax1)\n",
    "ax1.set_xticklabels(ax1.get_xticklabels() , rotation=90)\n",
    "ax1.set_title(\"Recovery costs per level\")\n",
    "\n",
    "ax2=sns.boxplot(x=\"recovery_strategy\", y='expected_recovery_amount', \n",
    "                 data=debt, ax=ax2)\n",
    "ax2.set_xticklabels(ax2.get_xticklabels() , rotation=90)\n",
    "ax2.set_title(\"Expected recovery amount per level\")\n",
    "\n",
    "\n",
    "plt.show()"
   ]
  },
  {
   "cell_type": "markdown",
   "metadata": {},
   "source": [
    "## Data modeling\n",
    "<p>\n",
    "starting with determining the range of the recovery levels in\n",
    "terms of expected_recovery_amount.\n",
    "</p> \n"
   ]
  },
  {
   "cell_type": "code",
   "execution_count": 24,
   "metadata": {},
   "outputs": [
    {
     "name": "stdout",
     "output_type": "stream",
     "text": [
      "<class 'pandas.core.frame.DataFrame'>\n",
      "                    min   max  range\n",
      "recovery_strategy                   \n",
      "Level0Recovery      194  1000    806\n",
      "Level1Recovery     1001  1997    996\n",
      "Level2Recovery     2001  2992    991\n",
      "Level3Recovery     3002  4987   1985\n",
      "Level4Recovery     5008  9964   4956\n",
      "(5, 3)\n",
      "Index(['Level0Recovery', 'Level1Recovery', 'Level2Recovery', 'Level3Recovery',\n",
      "       'Level4Recovery'],\n",
      "      dtype='object', name='recovery_strategy')\n"
     ]
    }
   ],
   "source": [
    "\n",
    "recover_agg = debt.groupby('recovery_strategy')['expected_recovery_amount'].aggregate(['min', 'max'])\n",
    "print(type(recover_agg))\n",
    "recover_agg['range'] = recover_agg['max'] - recover_agg['min']\n",
    "print(recover_agg )\n",
    "print(recover_agg.shape)\n",
    "print(recover_agg.index)"
   ]
  },
  {
   "cell_type": "code",
   "execution_count": 25,
   "metadata": {},
   "outputs": [
    {
     "name": "stdout",
     "output_type": "stream",
     "text": [
      "<class 'pandas.core.frame.DataFrame'>\n",
      "  threshold_areas   min   low    up\n",
      "0   threshold_0_1  1001   901  1101\n",
      "1   threshold_1_2  2001  1901  2101\n",
      "2   threshold_2_3  3002  2902  3102\n",
      "3   threshold_3_4  5008  4908  5108\n"
     ]
    }
   ],
   "source": [
    "# subsetting minimum colum from recover_agg above, \n",
    "# this are threshold values\n",
    "recover_agg_min = recover_agg.loc['Level1Recovery':'Level4Recovery','min']\n",
    "thresholds_df = recover_agg_min.to_frame()\n",
    "thresholds_df.reset_index(inplace=True)\n",
    "\n",
    "thresholds_df['low'] = thresholds_df['min'] - 100\n",
    "thresholds_df['up'] = thresholds_df['min'] + 100\n",
    "thresholds_df['recovery_strategy'] = ['threshold_0_1', 'threshold_1_2', 'threshold_2_3', 'threshold_3_4']\n",
    "thresholds_df.rename(columns={'recovery_strategy': 'threshold_areas'}, inplace=True)\n",
    "\n",
    "print(type(thresholds_df))\n",
    "print(thresholds_df)\n",
    "\n"
   ]
  },
  {
   "cell_type": "code",
   "execution_count": 26,
   "metadata": {},
   "outputs": [
    {
     "name": "stdout",
     "output_type": "stream",
     "text": [
      "[901, 1901, 2902, 4908]\n",
      "[1101, 2101, 3102, 5108]\n",
      "['threshold_0_1', 'threshold_1_2', 'threshold_2_3', 'threshold_3_4']\n"
     ]
    }
   ],
   "source": [
    "# Creating lower and upper boundaries\n",
    "low = thresholds_df.low.to_list()\n",
    "print(low)\n",
    "up = thresholds_df.up.to_list()\n",
    "print(up)\n",
    "threshold_areas = thresholds_df.threshold_areas.to_list()\n",
    "print(threshold_areas)"
   ]
  },
  {
   "cell_type": "code",
   "execution_count": 27,
   "metadata": {},
   "outputs": [
    {
     "name": "stdout",
     "output_type": "stream",
     "text": [
      "901 1101\n",
      "1901 2101\n",
      "2902 3102\n",
      "4908 5108\n"
     ]
    }
   ],
   "source": [
    "# check boundaries\n",
    "for i,m  in zip(low,up):\n",
    "    print(i,m)"
   ]
  },
  {
   "cell_type": "markdown",
   "metadata": {},
   "source": [
    "Conceptually expected recovery amount changes at the threshold or between recovery strategies. Does the other variables change also at the threshold? For example does the sex female jumps after threshold 2 or age \n",
    "decreases after threshold 3?"
   ]
  },
  {
   "cell_type": "markdown",
   "metadata": {},
   "source": [
    "#### Age: Are there any differences or jumps in age at the threshold between the levels of expected_recovery_amount?\n",
    "<p>Answering with viszualization.</p> \n"
   ]
  },
  {
   "cell_type": "code",
   "execution_count": 28,
   "metadata": {},
   "outputs": [
    {
     "name": "stdout",
     "output_type": "stream",
     "text": [
      "[0, 2000, 4000, 6000, 8000]\n",
      "[2000, 4000, 6000, 8000, 10000]\n"
     ]
    }
   ],
   "source": [
    "a2 = np.linspace(0,8000, num=5, dtype='int').tolist()\n",
    "print(a2)\n",
    "a3 = np.linspace(2000,10000, num=5, dtype='int').tolist()\n",
    "print(a3)"
   ]
  },
  {
   "cell_type": "code",
   "execution_count": 29,
   "metadata": {},
   "outputs": [
    {
     "data": {
      "image/png": "[encoded data removed]",
      "text/plain": [
       "<Figure size 1008x576 with 4 Axes>"
      ]
     },
     "metadata": {
      "needs_background": "light"
     },
     "output_type": "display_data"
    }
   ],
   "source": [
    "\n",
    "\n",
    "fig = plt.figure(figsize=(14,8))\n",
    "fig.subplots_adjust(hspace=0.6, wspace=0.3)\n",
    "fig.suptitle(\"expected_recovery_amount versus age in different sections\")\n",
    "for n, (i,j) in enumerate(zip(low, up)):\n",
    "        ax = fig.add_subplot(3, 2, n+1)\n",
    "        ax = plt.scatter(debt['expected_recovery_amount'], debt['age'], \n",
    "                         c=color_list[n], edgecolor='black')\n",
    "        ax = plt.xlabel('expected_recovery_amount')\n",
    "        ax = plt.ylabel('age')\n",
    "        ax = plt.xlim(i,j)\n",
    "        ax = plt.axvline(x=low[n] + 100, linewidth=3, color='red')\n"
   ]
  },
  {
   "cell_type": "markdown",
   "metadata": {},
   "source": [
    "There are no jumps at the thresholds visible. This indicates age influences <b>not</b> expected_recovery_amount."
   ]
  },
  {
   "cell_type": "markdown",
   "metadata": {},
   "source": [
    "#### Age: Is there a difference in (median) age at the threshold between Level0Recovery and Level1Recovery?\n",
    "\n",
    "<p>Answering numerical with a test.</p> "
   ]
  },
  {
   "cell_type": "code",
   "execution_count": 30,
   "metadata": {},
   "outputs": [
    {
     "name": "stdout",
     "output_type": "stream",
     "text": [
      "recovery_strategy\n",
      "Level0Recovery    186\n",
      "Level1Recovery    478\n",
      "Level2Recovery    276\n",
      "Level3Recovery    336\n",
      "Level4Recovery    253\n",
      "Name: expected_recovery_amount, dtype: int64\n",
      "recovery_strategy\n",
      "Level0Recovery    26\n",
      "Level1Recovery    33\n",
      "Level2Recovery    45\n",
      "Level3Recovery    51\n",
      "Level4Recovery    40\n",
      "Name: age, dtype: int64\n"
     ]
    }
   ],
   "source": [
    "print(debt.groupby('recovery_strategy')['expected_recovery_amount'].nunique())\n",
    "print(debt.groupby('recovery_strategy')['age'].nunique())"
   ]
  },
  {
   "cell_type": "code",
   "execution_count": 31,
   "metadata": {},
   "outputs": [
    {
     "name": "stdout",
     "output_type": "stream",
     "text": [
      "<class 'pandas.core.series.Series'>\n",
      "183\n",
      "(1882,)\n",
      "         id  expected_recovery_amount  actual_recovery_amount  \\\n",
      "index                                                           \n",
      "158     520                       900                     505   \n",
      "159    1036                       900                     540   \n",
      "160    1383                       900                     555   \n",
      "161     998                       901                     887   \n",
      "162    1351                       903                     667   \n",
      "\n",
      "      recovery_strategy  age     sex  \n",
      "index                                 \n",
      "158      Level0Recovery   34    Male  \n",
      "159      Level0Recovery   34  Female  \n",
      "160      Level0Recovery   24    Male  \n",
      "161      Level0Recovery   32    Male  \n",
      "162      Level0Recovery   28    Male  \n"
     ]
    }
   ],
   "source": [
    "threshold_1 = ((debt['expected_recovery_amount'] < 1100) & (debt['expected_recovery_amount'] >= 900))\n",
    "\n",
    "print(type(threshold_1))\n",
    "print(threshold_1.sum())\n",
    "print(threshold_1.shape)\n",
    "\n",
    "threshold_1_df = debt[threshold_1]\n",
    "\n",
    "print(threshold_1_df.head())\n"
   ]
  },
  {
   "cell_type": "code",
   "execution_count": 32,
   "metadata": {},
   "outputs": [
    {
     "name": "stdout",
     "output_type": "stream",
     "text": [
      "count    183.000000\n",
      "mean      28.010929\n",
      "std        6.159054\n",
      "min       18.000000\n",
      "25%       23.000000\n",
      "50%       28.000000\n",
      "75%       32.000000\n",
      "max       56.000000\n",
      "Name: age, dtype: float64\n",
      "count     183.000000\n",
      "mean     1005.464481\n",
      "std        56.618713\n",
      "min       900.000000\n",
      "25%       964.500000\n",
      "50%      1002.000000\n",
      "75%      1056.500000\n",
      "max      1099.000000\n",
      "Name: expected_recovery_amount, dtype: float64\n"
     ]
    }
   ],
   "source": [
    "print(threshold_1_df['age'].describe())\n",
    "print(threshold_1_df['expected_recovery_amount'].describe())"
   ]
  },
  {
   "cell_type": "code",
   "execution_count": 33,
   "metadata": {},
   "outputs": [
    {
     "name": "stdout",
     "output_type": "stream",
     "text": [
      "(89,)\n",
      "index\n",
      "158    34\n",
      "159    34\n",
      "160    24\n",
      "161    32\n",
      "162    28\n",
      "Name: age, dtype: int64\n",
      "(94,)\n",
      "index\n",
      "247    35\n",
      "248    25\n",
      "249    31\n",
      "250    33\n",
      "251    26\n",
      "Name: age, dtype: int64\n"
     ]
    }
   ],
   "source": [
    "# age at Level0Recovery of expected recovery amout between 900 and 1100\n",
    "age_0_threshold = threshold_1_df.loc[threshold_1_df['recovery_strategy'] == 'Level0Recovery']['age']\n",
    "print(age_0_threshold.shape)\n",
    "print(age_0_threshold[:5])\n",
    "# age at Level1Recovery of expected recovery amout between 900 and 1100\n",
    "age_1_threshold = threshold_1_df.loc[threshold_1_df['recovery_strategy'] == 'Level1Recovery',]['age']\n",
    "print(age_1_threshold.shape)\n",
    "print(age_1_threshold[:5])"
   ]
  },
  {
   "cell_type": "markdown",
   "metadata": {},
   "source": [
    "### Kruskal-Wallis H-test\n",
    "\n",
    "<p>\n",
    "The Kruskal-Wallis H-test tests the null hypothesis that the population median of all of the groups are equal. \n",
    "It is a non-parametric version of ANOVA. The test works on 2 or more independent samples, \n",
    "which may have different sizes. Note that rejecting the null hypothesis does not indicate which \n",
    "of the groups differs. Post-hoc comparisons between groups are required to \n",
    "determine which groups are different.\n",
    "</p> \n",
    "<a href=\"https://docs.scipy.org/doc/scipy/reference/generated/scipy.stats.kruskal.html\">\n",
    "scipy.stats.kruskal</a> \n",
    "<p>\n",
    "Applied significance level: 0.05\n",
    "</p> "
   ]
  },
  {
   "cell_type": "code",
   "execution_count": 34,
   "metadata": {},
   "outputs": [
    {
     "name": "stdout",
     "output_type": "stream",
     "text": [
      "3.4572342749517513 0.06297556896097407\n",
      "True\n"
     ]
    }
   ],
   "source": [
    "kruskal_statistic_1, kruskal_pvalue_1  = stats.kruskal(age_0_threshold, age_1_threshold) \n",
    "print(kruskal_statistic_1, kruskal_pvalue_1)\n",
    "print(kruskal_pvalue_1 > 0.05)"
   ]
  },
  {
   "cell_type": "markdown",
   "metadata": {},
   "source": [
    "The null-hypothesis that population median of of age of at Level0Recovery is equal \n",
    "to population median of of age of at Level1Recovery cannot be rejected. \n",
    "This indicates that age influences not expected recovery amout between 900 and 1100."
   ]
  },
  {
   "cell_type": "markdown",
   "metadata": {},
   "source": [
    "#### Age: Is there a difference in (median) age at the threshold between levels of recovery strategy?\n",
    "<p>Answering numerical with tests.</p> "
   ]
  },
  {
   "cell_type": "code",
   "execution_count": 35,
   "metadata": {},
   "outputs": [
    {
     "name": "stdout",
     "output_type": "stream",
     "text": [
      "['Level0Recovery', 'Level1Recovery', 'Level2Recovery', 'Level3Recovery']\n",
      "['Level1Recovery', 'Level2Recovery', 'Level3Recovery', 'Level4Recovery']\n",
      "Level0Recovery\n"
     ]
    }
   ],
   "source": [
    "recovery_levels_low = list(debt['recovery_strategy'].unique()[0:4])\n",
    "print(recovery_levels_low)\n",
    "recovery_levels_up = list(debt['recovery_strategy'].unique()[1:5])\n",
    "print(recovery_levels_up)\n",
    "print(recovery_levels_low[0])"
   ]
  },
  {
   "cell_type": "code",
   "execution_count": 36,
   "metadata": {},
   "outputs": [],
   "source": [
    "kruska_statistics = []\n",
    "kruska_pvalues = []\n",
    "\n",
    "for u, (i,m) in enumerate(zip(low,up)):\n",
    "    threshold_range = (debt['expected_recovery_amount'] >= i) & (debt['expected_recovery_amount'] <= m)\n",
    "    threshold_df = debt[threshold_range]\n",
    "\n",
    "    age_low = threshold_df.loc[threshold_df['recovery_strategy'] == recovery_levels_low[u], 'age']\n",
    "    age_up = threshold_df.loc[threshold_df['recovery_strategy'] == recovery_levels_up[u], 'age']\n",
    "    \n",
    "    statistic, pvalue  = stats.kruskal(age_up, age_low) \n",
    "    kruska_statistics.append(statistic)\n",
    "    kruska_pvalues.append(pvalue)\n",
    "\n",
    "\n"
   ]
  },
  {
   "cell_type": "code",
   "execution_count": 37,
   "metadata": {},
   "outputs": [],
   "source": [
    "kruska_pvalues=kruska_pvalues[::-1] \n",
    "kruska_statistics=kruska_statistics[::-1]"
   ]
  },
  {
   "cell_type": "code",
   "execution_count": 38,
   "metadata": {},
   "outputs": [
    {
     "data": {
      "text/html": [
       "<div>\n",
       "<style scoped>\n",
       "    .dataframe tbody tr th:only-of-type {\n",
       "        vertical-align: middle;\n",
       "    }\n",
       "\n",
       "    .dataframe tbody tr th {\n",
       "        vertical-align: top;\n",
       "    }\n",
       "\n",
       "    .dataframe thead th {\n",
       "        text-align: right;\n",
       "    }\n",
       "</style>\n",
       "<table border=\"1\" class=\"dataframe\">\n",
       "  <thead>\n",
       "    <tr style=\"text-align: right;\">\n",
       "      <th></th>\n",
       "      <th>threshold_areas</th>\n",
       "      <th>statistic</th>\n",
       "      <th>p_value</th>\n",
       "      <th>null_hypothesis</th>\n",
       "    </tr>\n",
       "  </thead>\n",
       "  <tbody>\n",
       "    <tr>\n",
       "      <th>0</th>\n",
       "      <td>threshold_0_1</td>\n",
       "      <td>1.107356</td>\n",
       "      <td>0.292657</td>\n",
       "      <td>not reject</td>\n",
       "    </tr>\n",
       "    <tr>\n",
       "      <th>1</th>\n",
       "      <td>threshold_1_2</td>\n",
       "      <td>0.043022</td>\n",
       "      <td>0.835684</td>\n",
       "      <td>not reject</td>\n",
       "    </tr>\n",
       "    <tr>\n",
       "      <th>2</th>\n",
       "      <td>threshold_2_3</td>\n",
       "      <td>0.924097</td>\n",
       "      <td>0.336402</td>\n",
       "      <td>not reject</td>\n",
       "    </tr>\n",
       "    <tr>\n",
       "      <th>3</th>\n",
       "      <td>threshold_3_4</td>\n",
       "      <td>4.094912</td>\n",
       "      <td>0.043012</td>\n",
       "      <td>reject</td>\n",
       "    </tr>\n",
       "  </tbody>\n",
       "</table>\n",
       "</div>"
      ],
      "text/plain": [
       "  threshold_areas  statistic   p_value null_hypothesis\n",
       "0   threshold_0_1   1.107356  0.292657      not reject\n",
       "1   threshold_1_2   0.043022  0.835684      not reject\n",
       "2   threshold_2_3   0.924097  0.336402      not reject\n",
       "3   threshold_3_4   4.094912  0.043012          reject"
      ]
     },
     "execution_count": 38,
     "metadata": {},
     "output_type": "execute_result"
    }
   ],
   "source": [
    "kruska_df = pd.DataFrame(list(zip(threshold_areas, kruska_statistics, kruska_pvalues)), \n",
    "                              columns=['threshold_areas', 'statistic', 'p_value'])\n",
    "\n",
    "kruska_df['null_hypothesis'] = np.where(kruska_df['p_value'] > 0.05, 'not reject', 'reject')\n",
    "\n",
    "kruska_df.sort_values(by='threshold_areas')"
   ]
  },
  {
   "cell_type": "markdown",
   "metadata": {},
   "source": [
    "The null-hypothesis states that the median between the two populations is equal.\n",
    "This implies that the distribution have the same shape.\n",
    "This is true for the threshold ares 1 to 23.\n",
    "At threshold_3_4 it is rejected.\n",
    "This also the threshold with the highest deviations and the lowest number of samples.\n",
    "\n",
    "    "
   ]
  },
  {
   "cell_type": "markdown",
   "metadata": {},
   "source": [
    "#### Sex: Is there on average a different before and after the threshold between 901 and 1001 of recovery strategy with regard to sex?\n",
    "\n",
    "<p>Answering numerical with a chi square test.</p> "
   ]
  },
  {
   "cell_type": "code",
   "execution_count": 39,
   "metadata": {},
   "outputs": [
    {
     "name": "stdout",
     "output_type": "stream",
     "text": [
      "sex                Female  Male\n",
      "recovery_strategy              \n",
      "Level0Recovery         31    55\n",
      "Level1Recovery         40    55\n"
     ]
    }
   ],
   "source": [
    "# Number of customers in each category\n",
    "crosstab = pd.crosstab(debt.loc[(debt['expected_recovery_amount']<1101) & \n",
    "                              (debt['expected_recovery_amount']>=901)]['recovery_strategy'], \n",
    "                       debt['sex'], dropna=True)\n",
    "print(crosstab)"
   ]
  },
  {
   "cell_type": "markdown",
   "metadata": {},
   "source": [
    "### Chi-square test\n",
    "<p>\n",
    "The null hypothesis states: there is no difference between the expected and observed frequencies of the sampling distribution.\n",
    "The test is based on frequency tables, where the intersections between the variables are stored as frequencies in the cells.\n",
    "</p>\n",
    "\n",
    "<p>What we want to know here whether the expected and observed frequencies of recovery_strategy and sex are different or not\n",
    "for certain sections of the expected_recovery_amount.\n",
    "If the frequencies are different and the null hypothesis is rejected then the frequencies of sex are changing unexpectedly after the thresholds.\n",
    "For example at Level1Recovery the number of females is increasing unexpectedly.\n",
    "</p>\n",
    "\n",
    "<p>The significance level is set here at 0.05</p>"
   ]
  },
  {
   "cell_type": "code",
   "execution_count": 40,
   "metadata": {},
   "outputs": [
    {
     "name": "stdout",
     "output_type": "stream",
     "text": [
      "0.49569867432047543\n"
     ]
    }
   ],
   "source": [
    "# Chi-square test\n",
    "chi2_stat, p_val, dof, ex = stats.chi2_contingency(crosstab)\n",
    "print(p_val)"
   ]
  },
  {
   "cell_type": "markdown",
   "metadata": {},
   "source": [
    "#### Sex: Are there on average a differences before and after the thresholds of all levels of recovery strategy with regard to sex?\n",
    "\n",
    "<p>Answering numerical with a chi squared tests.</p> "
   ]
  },
  {
   "cell_type": "code",
   "execution_count": 41,
   "metadata": {},
   "outputs": [
    {
     "name": "stdout",
     "output_type": "stream",
     "text": [
      "[901, 1901, 2902, 4908]\n",
      "[1101, 2101, 3102, 5108]\n"
     ]
    }
   ],
   "source": [
    "print(low)\n",
    "print(up)\n",
    "areas = thresholds_df['threshold_areas']"
   ]
  },
  {
   "cell_type": "code",
   "execution_count": 45,
   "metadata": {},
   "outputs": [
    {
     "name": "stdout",
     "output_type": "stream",
     "text": [
      "  threshold_areas   p_value      chi2     Reject?\n",
      "0   threshold_0_1  0.495699  0.464133  not reject\n",
      "1   threshold_1_2  0.531425  0.391667  not reject\n",
      "2   threshold_2_3  0.405122  0.693071  not reject\n",
      "3   threshold_3_4  0.321958  0.980975  not reject\n"
     ]
    }
   ],
   "source": [
    "\n",
    "crosstab_levels = []\n",
    "chi_areas = []\n",
    "chi_p = []\n",
    "chi2 = []\n",
    "\n",
    "for u, (i,m) in enumerate(zip(low,up)):\n",
    "    crosstab = \\\n",
    "    pd.crosstab(debt.loc[(debt['expected_recovery_amount']<m) & \n",
    "                         (debt['expected_recovery_amount']>=i)]['recovery_strategy'], \n",
    "                debt['sex'], dropna=True)\n",
    "    \n",
    "    crosstab_levels.append(crosstab)\n",
    "    \n",
    "    chi2_stat, p_val, dof, ex = stats.chi2_contingency(crosstab)\n",
    "\n",
    "    \n",
    "    chi_areas.append(areas[u])\n",
    "    chi_p.append(p_val)\n",
    "    chi2.append(chi2_stat)\n",
    "    \n",
    "    # check\n",
    "    # print(i,m)\n",
    "\n",
    "\n",
    "chi_results = pd.DataFrame(list(zip(chi_areas, chi_p, chi2)), columns=['threshold_areas', 'p_value', 'chi2'])\n",
    "\n",
    "\n",
    "# Reject the null hypothesis. The null hypothesis states:\n",
    "# there is no difference between the expected and observed frequencies of the given data.\n",
    "chi_results['Reject?'] = np.where(chi_results.p_value > 0.05, 'not reject', 'reject')\n",
    "\n",
    "print(chi_results)\n"
   ]
  },
  {
   "cell_type": "markdown",
   "metadata": {},
   "source": [
    "The p_value at threshold_0_1 calculated with the for loop is identical to the p_value without for loop of 0.495699.\n",
    "This indicates the for loop works.\n",
    "\n",
    "<p>More important no null-hypothesis is rejected for each level. This means the expected and observed frequencies are similar and age changes not at the thresholds.\n",
    "Customers before and below the threshold have on average a similar mean.</p> "
   ]
  },
  {
   "cell_type": "code",
   "execution_count": 46,
   "metadata": {},
   "outputs": [
    {
     "name": "stdout",
     "output_type": "stream",
     "text": [
      "threshold_0_1\n",
      "sex                Female  Male\n",
      "recovery_strategy              \n",
      "Level0Recovery         31    55\n",
      "Level1Recovery         40    55\n",
      "threshold_1_2\n",
      "sex                Female  Male\n",
      "recovery_strategy              \n",
      "Level1Recovery         22    25\n",
      "Level2Recovery         18    29\n",
      "threshold_2_3\n",
      "sex                Female  Male\n",
      "recovery_strategy              \n",
      "Level2Recovery         10    15\n",
      "Level3Recovery         18    15\n",
      "threshold_3_4\n",
      "sex                Female  Male\n",
      "recovery_strategy              \n",
      "Level3Recovery          8     4\n",
      "Level4Recovery          6     9\n"
     ]
    }
   ],
   "source": [
    "for i,m in zip(areas, crosstab_levels):\n",
    "    print(i)\n",
    "    print(m)"
   ]
  },
  {
   "cell_type": "markdown",
   "metadata": {},
   "source": [
    "#### actual_recovery_amount: Are there a differences or jumps in actual_recovery_amount at the threshold between the levels of recovery strategy in sections of expected_recovery_amount?\n",
    "\n",
    "<p>Answering with viszualization.</p> "
   ]
  },
  {
   "cell_type": "code",
   "execution_count": 47,
   "metadata": {},
   "outputs": [
    {
     "data": {
      "image/png": "[encoded data removed]",
      "text/plain": [
       "<Figure size 1008x576 with 4 Axes>"
      ]
     },
     "metadata": {
      "needs_background": "light"
     },
     "output_type": "display_data"
    }
   ],
   "source": [
    "vertical=[901, 1901, 2902, 4900]\n",
    "fig = plt.figure(figsize=(14,8))\n",
    "fig.subplots_adjust(hspace=0.6, wspace=0.3)\n",
    "fig.suptitle(\"expected_recovery_amount versus actual_recovery_amount in different sections\")\n",
    "for n, (i,j) in enumerate(zip(low, up)):\n",
    "        ax = fig.add_subplot(3, 2, n+1)\n",
    "        ax = plt.scatter(debt['expected_recovery_amount'], \n",
    "                         debt['actual_recovery_amount'], \n",
    "                         c=color_list[n], edgecolor='black')\n",
    "        ax = plt.xlabel('expected_recovery_amount')\n",
    "        ax = plt.ylabel('actual_recovery_amount')\n",
    "        ax = plt.xlim(i,j)\n",
    "        ax = plt.axvline(x=vertical[n] + 100, linewidth=3, color='red')\n"
   ]
  },
  {
   "cell_type": "markdown",
   "metadata": {},
   "source": [
    "There are no jumps at the thresholds visible. However in the range of 8.000 to 10.000 the fluctuation and deviation are very high. This makes it harder to determine changes in this section of expected recovery amount.\n",
    "Does the Kruskal-Wallis test confirm this answer?"
   ]
  },
  {
   "cell_type": "markdown",
   "metadata": {},
   "source": [
    "### Answering with Kruskal-Wallis H-test."
   ]
  },
  {
   "cell_type": "code",
   "execution_count": 48,
   "metadata": {},
   "outputs": [],
   "source": [
    "kruska_statistics_2 = []\n",
    "kruska_pvalues_2 = []\n",
    "\n",
    "for u, (i,m) in enumerate(zip(low,up)):\n",
    "    threshold_range = (debt['expected_recovery_amount'] >= i) & (debt['expected_recovery_amount'] <= m)\n",
    "    threshold_df = debt[threshold_range]\n",
    "\n",
    "    act_low = threshold_df.loc[threshold_df['recovery_strategy'] == recovery_levels_low[u], 'actual_recovery_amount']\n",
    "    act_up = threshold_df.loc[threshold_df['recovery_strategy'] == recovery_levels_up[u], 'actual_recovery_amount']\n",
    "    \n",
    "    statistic, pvalue  = stats.kruskal(act_up, act_low) \n",
    "    kruska_statistics_2.append(statistic)\n",
    "    kruska_pvalues_2.append(pvalue)"
   ]
  },
  {
   "cell_type": "code",
   "execution_count": 49,
   "metadata": {},
   "outputs": [
    {
     "name": "stdout",
     "output_type": "stream",
     "text": [
      "[62.80561216595514, 18.481022704319972, 14.008470588235298, 0.6880952380952436]\n",
      "[2.2814781899315703e-15, 1.71604531630211e-05, 0.00018198893303818348, 0.4068130174209713]\n"
     ]
    }
   ],
   "source": [
    "print(kruska_statistics_2)\n",
    "print(kruska_pvalues_2)"
   ]
  },
  {
   "cell_type": "code",
   "execution_count": 50,
   "metadata": {},
   "outputs": [
    {
     "data": {
      "text/html": [
       "<div>\n",
       "<style scoped>\n",
       "    .dataframe tbody tr th:only-of-type {\n",
       "        vertical-align: middle;\n",
       "    }\n",
       "\n",
       "    .dataframe tbody tr th {\n",
       "        vertical-align: top;\n",
       "    }\n",
       "\n",
       "    .dataframe thead th {\n",
       "        text-align: right;\n",
       "    }\n",
       "</style>\n",
       "<table border=\"1\" class=\"dataframe\">\n",
       "  <thead>\n",
       "    <tr style=\"text-align: right;\">\n",
       "      <th></th>\n",
       "      <th>chi</th>\n",
       "      <th>pvalue</th>\n",
       "      <th>reject ?</th>\n",
       "    </tr>\n",
       "  </thead>\n",
       "  <tbody>\n",
       "    <tr>\n",
       "      <th>0</th>\n",
       "      <td>62.805612</td>\n",
       "      <td>2.281478e-15</td>\n",
       "      <td>reject</td>\n",
       "    </tr>\n",
       "    <tr>\n",
       "      <th>1</th>\n",
       "      <td>18.481023</td>\n",
       "      <td>1.716045e-05</td>\n",
       "      <td>reject</td>\n",
       "    </tr>\n",
       "    <tr>\n",
       "      <th>2</th>\n",
       "      <td>14.008471</td>\n",
       "      <td>1.819889e-04</td>\n",
       "      <td>reject</td>\n",
       "    </tr>\n",
       "    <tr>\n",
       "      <th>3</th>\n",
       "      <td>0.688095</td>\n",
       "      <td>4.068130e-01</td>\n",
       "      <td>not reject</td>\n",
       "    </tr>\n",
       "  </tbody>\n",
       "</table>\n",
       "</div>"
      ],
      "text/plain": [
       "         chi        pvalue    reject ?\n",
       "0  62.805612  2.281478e-15      reject\n",
       "1  18.481023  1.716045e-05      reject\n",
       "2  14.008471  1.819889e-04      reject\n",
       "3   0.688095  4.068130e-01  not reject"
      ]
     },
     "execution_count": 50,
     "metadata": {},
     "output_type": "execute_result"
    }
   ],
   "source": [
    "kruskal_act = pd.DataFrame(list(zip(kruska_statistics_2, kruska_pvalues_2)), columns=['chi' , 'pvalue'])\n",
    "kruskal_act['reject ?'] = np.where(kruskal_act.pvalue > 0.05, 'not reject', 'reject')\n",
    "\n",
    "kruskal_act"
   ]
  },
  {
   "cell_type": "markdown",
   "metadata": {},
   "source": [
    "The population median below and above the thresholds is not equal for areas 1 to 3.\n",
    "This implies that 'actual_recovery_amount' changes significantly with recovery strategy.\n",
    "This contradicts the visual representation, but the test is more valid to measure the differences\n",
    "than the plots."
   ]
  },
  {
   "cell_type": "markdown",
   "metadata": {},
   "source": [
    "### Regression analysis\n",
    "<p>\n",
    "Regression analysis focuses other than machine learning regression not mainly on predictions but on determining \n",
    "the characteristics of the relationsip between independent and dependent variables.\n",
    "Characteristics are for example the direction and the strength of the relationship or the goodness of fit of the model.\n",
    "The R-squared as the variance explained by the model is interpreted here.\n",
    "</p> \n",
    "\n",
    "<p>\n",
    "In the first step the regression analysis with expected_recovery_amount as the independent and\n",
    "actual_recovery_amount as the dependent variable is conducted over the whole data set.\n",
    "</p> "
   ]
  },
  {
   "cell_type": "code",
   "execution_count": 51,
   "metadata": {},
   "outputs": [
    {
     "name": "stderr",
     "output_type": "stream",
     "text": [
      "C:\\Users\\gamarandor\\Anaconda3\\lib\\site-packages\\numpy\\core\\fromnumeric.py:2389: FutureWarning: Method .ptp is deprecated and will be removed in a future version. Use numpy.ptp instead.\n",
      "  return ptp(axis=axis, out=out, **kwargs)\n"
     ]
    },
    {
     "name": "stdout",
     "output_type": "stream",
     "text": [
      "index\n",
      "0   -1253.247138\n",
      "1    -655.332246\n",
      "2    -571.378442\n",
      "3    -552.949559\n",
      "4    -542.711290\n",
      "dtype: float64\n"
     ]
    },
    {
     "data": {
      "text/html": [
       "<table class=\"simpletable\">\n",
       "<caption>OLS Regression Results</caption>\n",
       "<tr>\n",
       "  <th>Dep. Variable:</th>    <td>actual_recovery_amount</td> <th>  R-squared:         </th> <td>   0.817</td> \n",
       "</tr>\n",
       "<tr>\n",
       "  <th>Model:</th>                      <td>OLS</td>          <th>  Adj. R-squared:    </th> <td>   0.817</td> \n",
       "</tr>\n",
       "<tr>\n",
       "  <th>Method:</th>                <td>Least Squares</td>     <th>  F-statistic:       </th> <td>   8378.</td> \n",
       "</tr>\n",
       "<tr>\n",
       "  <th>Date:</th>                <td>Tue, 08 Oct 2019</td>    <th>  Prob (F-statistic):</th>  <td>  0.00</td>  \n",
       "</tr>\n",
       "<tr>\n",
       "  <th>Time:</th>                    <td>09:12:19</td>        <th>  Log-Likelihood:    </th> <td> -16936.</td> \n",
       "</tr>\n",
       "<tr>\n",
       "  <th>No. Observations:</th>         <td>  1882</td>         <th>  AIC:               </th> <td>3.388e+04</td>\n",
       "</tr>\n",
       "<tr>\n",
       "  <th>Df Residuals:</th>             <td>  1880</td>         <th>  BIC:               </th> <td>3.389e+04</td>\n",
       "</tr>\n",
       "<tr>\n",
       "  <th>Df Model:</th>                 <td>     1</td>         <th>                     </th>     <td> </td>    \n",
       "</tr>\n",
       "<tr>\n",
       "  <th>Covariance Type:</th>         <td>nonrobust</td>       <th>                     </th>     <td> </td>    \n",
       "</tr>\n",
       "</table>\n",
       "<table class=\"simpletable\">\n",
       "<tr>\n",
       "              <td></td>                <th>coef</th>     <th>std err</th>      <th>t</th>      <th>P>|t|</th>  <th>[0.025</th>    <th>0.975]</th>  \n",
       "</tr>\n",
       "<tr>\n",
       "  <th>const</th>                    <td>-1650.4920</td> <td>   76.506</td> <td>  -21.573</td> <td> 0.000</td> <td>-1800.537</td> <td>-1500.447</td>\n",
       "</tr>\n",
       "<tr>\n",
       "  <th>expected_recovery_amount</th> <td>    2.0477</td> <td>    0.022</td> <td>   91.530</td> <td> 0.000</td> <td>    2.004</td> <td>    2.092</td>\n",
       "</tr>\n",
       "</table>\n",
       "<table class=\"simpletable\">\n",
       "<tr>\n",
       "  <th>Omnibus:</th>       <td>1477.254</td> <th>  Durbin-Watson:     </th> <td>   2.090</td> \n",
       "</tr>\n",
       "<tr>\n",
       "  <th>Prob(Omnibus):</th>  <td> 0.000</td>  <th>  Jarque-Bera (JB):  </th> <td>77457.864</td>\n",
       "</tr>\n",
       "<tr>\n",
       "  <th>Skew:</th>           <td> 3.224</td>  <th>  Prob(JB):          </th> <td>    0.00</td> \n",
       "</tr>\n",
       "<tr>\n",
       "  <th>Kurtosis:</th>       <td>33.760</td>  <th>  Cond. No.          </th> <td>5.79e+03</td> \n",
       "</tr>\n",
       "</table><br/><br/>Warnings:<br/>[1] Standard Errors assume that the covariance matrix of the errors is correctly specified.<br/>[2] The condition number is large, 5.79e+03. This might indicate that there are<br/>strong multicollinearity or other numerical problems."
      ],
      "text/plain": [
       "<class 'statsmodels.iolib.summary.Summary'>\n",
       "\"\"\"\n",
       "                              OLS Regression Results                              \n",
       "==================================================================================\n",
       "Dep. Variable:     actual_recovery_amount   R-squared:                       0.817\n",
       "Model:                                OLS   Adj. R-squared:                  0.817\n",
       "Method:                     Least Squares   F-statistic:                     8378.\n",
       "Date:                    Tue, 08 Oct 2019   Prob (F-statistic):               0.00\n",
       "Time:                            09:12:19   Log-Likelihood:                -16936.\n",
       "No. Observations:                    1882   AIC:                         3.388e+04\n",
       "Df Residuals:                        1880   BIC:                         3.389e+04\n",
       "Df Model:                               1                                         \n",
       "Covariance Type:                nonrobust                                         \n",
       "============================================================================================\n",
       "                               coef    std err          t      P>|t|      [0.025      0.975]\n",
       "--------------------------------------------------------------------------------------------\n",
       "const                    -1650.4920     76.506    -21.573      0.000   -1800.537   -1500.447\n",
       "expected_recovery_amount     2.0477      0.022     91.530      0.000       2.004       2.092\n",
       "==============================================================================\n",
       "Omnibus:                     1477.254   Durbin-Watson:                   2.090\n",
       "Prob(Omnibus):                  0.000   Jarque-Bera (JB):            77457.864\n",
       "Skew:                           3.224   Prob(JB):                         0.00\n",
       "Kurtosis:                      33.760   Cond. No.                     5.79e+03\n",
       "==============================================================================\n",
       "\n",
       "Warnings:\n",
       "[1] Standard Errors assume that the covariance matrix of the errors is correctly specified.\n",
       "[2] The condition number is large, 5.79e+03. This might indicate that there are\n",
       "strong multicollinearity or other numerical problems.\n",
       "\"\"\""
      ]
     },
     "execution_count": 51,
     "metadata": {},
     "output_type": "execute_result"
    }
   ],
   "source": [
    "\n",
    "# Define X and y\n",
    "X = debt['expected_recovery_amount']\n",
    "y = debt['actual_recovery_amount']\n",
    "X = sm.add_constant(X)\n",
    "\n",
    "# Build linear regression model\n",
    "debt_model = sm.OLS(y, X).fit()\n",
    "\n",
    "predictions = debt_model.predict(X)\n",
    "print(predictions[:5])\n",
    "\n",
    "# Print out the model summary statistics\n",
    "debt_model.summary()"
   ]
  },
  {
   "cell_type": "markdown",
   "metadata": {},
   "source": [
    "<b>Interpretation</b>: The R-squared or coefficient of determination is with 0.817 high. The variance explained by the model of the overall variance is ca. 81 %. This indicates high goodnes of fit. The coefficient is positive. This indicates a positive relationship.Given a one unit shift in expected_recovery_amount the dependent variable actual_recovery_amountshifts 2.0477 units while all other variables are staying constant.\n",
    "The coefficient for expected_recovery_amount is significantly different from 0 because its p-value is 0.000, which is smaller than 0.05. "
   ]
  },
  {
   "cell_type": "markdown",
   "metadata": {},
   "source": [
    "### Regression analysis within subset 900 to 1100"
   ]
  },
  {
   "cell_type": "code",
   "execution_count": 52,
   "metadata": {},
   "outputs": [
    {
     "name": "stdout",
     "output_type": "stream",
     "text": [
      "(184, 6)\n",
      "(1882, 6)\n"
     ]
    }
   ],
   "source": [
    "debt_subset_34 = (debt['expected_recovery_amount'] >= 900) & (debt['expected_recovery_amount'] <= 1100)\n",
    "debt_subset_34_df = debt[debt_subset_34]\n",
    "\n",
    "# print(debt_subset_34_df.info())\n",
    "print(debt_subset_34_df.shape)\n",
    "print(debt.shape)"
   ]
  },
  {
   "cell_type": "code",
   "execution_count": 53,
   "metadata": {},
   "outputs": [
    {
     "data": {
      "text/html": [
       "<table class=\"simpletable\">\n",
       "<caption>OLS Regression Results</caption>\n",
       "<tr>\n",
       "  <th>Dep. Variable:</th>    <td>actual_recovery_amount</td> <th>  R-squared:         </th> <td>   0.252</td>\n",
       "</tr>\n",
       "<tr>\n",
       "  <th>Model:</th>                      <td>OLS</td>          <th>  Adj. R-squared:    </th> <td>   0.248</td>\n",
       "</tr>\n",
       "<tr>\n",
       "  <th>Method:</th>                <td>Least Squares</td>     <th>  F-statistic:       </th> <td>   61.45</td>\n",
       "</tr>\n",
       "<tr>\n",
       "  <th>Date:</th>                <td>Tue, 08 Oct 2019</td>    <th>  Prob (F-statistic):</th> <td>3.69e-13</td>\n",
       "</tr>\n",
       "<tr>\n",
       "  <th>Time:</th>                    <td>09:12:19</td>        <th>  Log-Likelihood:    </th> <td> -1286.5</td>\n",
       "</tr>\n",
       "<tr>\n",
       "  <th>No. Observations:</th>         <td>   184</td>         <th>  AIC:               </th> <td>   2577.</td>\n",
       "</tr>\n",
       "<tr>\n",
       "  <th>Df Residuals:</th>             <td>   182</td>         <th>  BIC:               </th> <td>   2583.</td>\n",
       "</tr>\n",
       "<tr>\n",
       "  <th>Df Model:</th>                 <td>     1</td>         <th>                     </th>     <td> </td>   \n",
       "</tr>\n",
       "<tr>\n",
       "  <th>Covariance Type:</th>         <td>nonrobust</td>       <th>                     </th>     <td> </td>   \n",
       "</tr>\n",
       "</table>\n",
       "<table class=\"simpletable\">\n",
       "<tr>\n",
       "              <td></td>                <th>coef</th>     <th>std err</th>      <th>t</th>      <th>P>|t|</th>  <th>[0.025</th>    <th>0.975]</th>  \n",
       "</tr>\n",
       "<tr>\n",
       "  <th>const</th>                    <td>-1917.8468</td> <td>  346.410</td> <td>   -5.536</td> <td> 0.000</td> <td>-2601.343</td> <td>-1234.350</td>\n",
       "</tr>\n",
       "<tr>\n",
       "  <th>expected_recovery_amount</th> <td>    2.6950</td> <td>    0.344</td> <td>    7.839</td> <td> 0.000</td> <td>    2.017</td> <td>    3.373</td>\n",
       "</tr>\n",
       "</table>\n",
       "<table class=\"simpletable\">\n",
       "<tr>\n",
       "  <th>Omnibus:</th>       <td>64.510</td> <th>  Durbin-Watson:     </th> <td>   1.787</td>\n",
       "</tr>\n",
       "<tr>\n",
       "  <th>Prob(Omnibus):</th> <td> 0.000</td> <th>  Jarque-Bera (JB):  </th> <td> 185.631</td>\n",
       "</tr>\n",
       "<tr>\n",
       "  <th>Skew:</th>          <td> 1.457</td> <th>  Prob(JB):          </th> <td>4.91e-41</td>\n",
       "</tr>\n",
       "<tr>\n",
       "  <th>Kurtosis:</th>      <td> 6.965</td> <th>  Cond. No.          </th> <td>1.79e+04</td>\n",
       "</tr>\n",
       "</table><br/><br/>Warnings:<br/>[1] Standard Errors assume that the covariance matrix of the errors is correctly specified.<br/>[2] The condition number is large, 1.79e+04. This might indicate that there are<br/>strong multicollinearity or other numerical problems."
      ],
      "text/plain": [
       "<class 'statsmodels.iolib.summary.Summary'>\n",
       "\"\"\"\n",
       "                              OLS Regression Results                              \n",
       "==================================================================================\n",
       "Dep. Variable:     actual_recovery_amount   R-squared:                       0.252\n",
       "Model:                                OLS   Adj. R-squared:                  0.248\n",
       "Method:                     Least Squares   F-statistic:                     61.45\n",
       "Date:                    Tue, 08 Oct 2019   Prob (F-statistic):           3.69e-13\n",
       "Time:                            09:12:19   Log-Likelihood:                -1286.5\n",
       "No. Observations:                     184   AIC:                             2577.\n",
       "Df Residuals:                         182   BIC:                             2583.\n",
       "Df Model:                               1                                         \n",
       "Covariance Type:                nonrobust                                         \n",
       "============================================================================================\n",
       "                               coef    std err          t      P>|t|      [0.025      0.975]\n",
       "--------------------------------------------------------------------------------------------\n",
       "const                    -1917.8468    346.410     -5.536      0.000   -2601.343   -1234.350\n",
       "expected_recovery_amount     2.6950      0.344      7.839      0.000       2.017       3.373\n",
       "==============================================================================\n",
       "Omnibus:                       64.510   Durbin-Watson:                   1.787\n",
       "Prob(Omnibus):                  0.000   Jarque-Bera (JB):              185.631\n",
       "Skew:                           1.457   Prob(JB):                     4.91e-41\n",
       "Kurtosis:                       6.965   Cond. No.                     1.79e+04\n",
       "==============================================================================\n",
       "\n",
       "Warnings:\n",
       "[1] Standard Errors assume that the covariance matrix of the errors is correctly specified.\n",
       "[2] The condition number is large, 1.79e+04. This might indicate that there are\n",
       "strong multicollinearity or other numerical problems.\n",
       "\"\"\""
      ]
     },
     "execution_count": 53,
     "metadata": {},
     "output_type": "execute_result"
    }
   ],
   "source": [
    "\n",
    "# Define X and y\n",
    "X = debt_subset_34_df['expected_recovery_amount']\n",
    "y = debt_subset_34_df['actual_recovery_amount']\n",
    "X = sm.add_constant(X)\n",
    "\n",
    "# Build linear regression model\n",
    "debt_subset_34_model = sm.OLS(y, X).fit()\n",
    "predictions = debt_subset_34_model.predict(X)\n",
    "\n",
    "# Print out the model summary statistics\n",
    "debt_subset_34_model.summary()"
   ]
  },
  {
   "cell_type": "markdown",
   "metadata": {},
   "source": [
    "<b>Interpretation</b>: The R-squared or coefficient of determination is with 0.248 low. \n",
    "The variance explained by the model of the overall variance is ca. 24 %. \n",
    "This indicates low goodness of fit, but maybe less critical considering the small sample.\n",
    "The coefficient is positive. This indicates a positive relationship.Given a one unit shift in \n",
    "expected_recovery_amount the dependent variable actual_recovery_amount shifts 2.6950 units while \n",
    "all other variables are staying constant. The coefficient for expected_recovery_amount is significantly different from 0 because its p-value is 0.000, which is smaller than 0.05. "
   ]
  },
  {
   "cell_type": "code",
   "execution_count": 54,
   "metadata": {},
   "outputs": [
    {
     "name": "stdout",
     "output_type": "stream",
     "text": [
      "['id', 'expected_recovery_amount', 'actual_recovery_amount', 'recovery_strategy', 'age', 'sex', 'indicator_1000']\n",
      "0\n",
      "96\n"
     ]
    }
   ],
   "source": [
    "debt_subset_555_df = debt_subset_34_df.copy()\n",
    "# Create indicator (0 or 1) for expected recovery amount >= $1000\n",
    "debt_subset_555_df['indicator_1000'] = np.where(debt_subset_555_df['expected_recovery_amount']<1000, 0, 1)\n",
    "\n",
    "# check\n",
    "print(debt_subset_555_df.columns.tolist())\n",
    "print(debt_subset_555_df['indicator_1000'].isnull().sum())\n",
    "print(debt_subset_555_df['indicator_1000'].sum())"
   ]
  },
  {
   "cell_type": "code",
   "execution_count": 61,
   "metadata": {},
   "outputs": [
    {
     "data": {
      "text/html": [
       "<table class=\"simpletable\">\n",
       "<caption>OLS Regression Results</caption>\n",
       "<tr>\n",
       "  <th>Dep. Variable:</th>    <td>actual_recovery_amount</td> <th>  R-squared:         </th> <td>   0.309</td>\n",
       "</tr>\n",
       "<tr>\n",
       "  <th>Model:</th>                      <td>OLS</td>          <th>  Adj. R-squared:    </th> <td>   0.301</td>\n",
       "</tr>\n",
       "<tr>\n",
       "  <th>Method:</th>                <td>Least Squares</td>     <th>  F-statistic:       </th> <td>   40.42</td>\n",
       "</tr>\n",
       "<tr>\n",
       "  <th>Date:</th>                <td>Tue, 08 Oct 2019</td>    <th>  Prob (F-statistic):</th> <td>3.06e-15</td>\n",
       "</tr>\n",
       "<tr>\n",
       "  <th>Time:</th>                    <td>11:06:02</td>        <th>  Log-Likelihood:    </th> <td> -1279.3</td>\n",
       "</tr>\n",
       "<tr>\n",
       "  <th>No. Observations:</th>         <td>   184</td>         <th>  AIC:               </th> <td>   2565.</td>\n",
       "</tr>\n",
       "<tr>\n",
       "  <th>Df Residuals:</th>             <td>   181</td>         <th>  BIC:               </th> <td>   2574.</td>\n",
       "</tr>\n",
       "<tr>\n",
       "  <th>Df Model:</th>                 <td>     2</td>         <th>                     </th>     <td> </td>   \n",
       "</tr>\n",
       "<tr>\n",
       "  <th>Covariance Type:</th>         <td>nonrobust</td>       <th>                     </th>     <td> </td>   \n",
       "</tr>\n",
       "</table>\n",
       "<table class=\"simpletable\">\n",
       "<tr>\n",
       "              <td></td>                <th>coef</th>     <th>std err</th>      <th>t</th>      <th>P>|t|</th>  <th>[0.025</th>    <th>0.975]</th>  \n",
       "</tr>\n",
       "<tr>\n",
       "  <th>const</th>                    <td>  100.7826</td> <td>  622.656</td> <td>    0.162</td> <td> 0.872</td> <td>-1127.814</td> <td> 1329.380</td>\n",
       "</tr>\n",
       "<tr>\n",
       "  <th>expected_recovery_amount</th> <td>    0.5410</td> <td>    0.651</td> <td>    0.830</td> <td> 0.407</td> <td>   -0.744</td> <td>    1.826</td>\n",
       "</tr>\n",
       "<tr>\n",
       "  <th>indicator_1000</th>           <td>  284.2193</td> <td>   73.987</td> <td>    3.841</td> <td> 0.000</td> <td>  138.231</td> <td>  430.208</td>\n",
       "</tr>\n",
       "</table>\n",
       "<table class=\"simpletable\">\n",
       "<tr>\n",
       "  <th>Omnibus:</th>       <td>66.393</td> <th>  Durbin-Watson:     </th> <td>   1.922</td>\n",
       "</tr>\n",
       "<tr>\n",
       "  <th>Prob(Omnibus):</th> <td> 0.000</td> <th>  Jarque-Bera (JB):  </th> <td> 188.174</td>\n",
       "</tr>\n",
       "<tr>\n",
       "  <th>Skew:</th>          <td> 1.512</td> <th>  Prob(JB):          </th> <td>1.38e-41</td>\n",
       "</tr>\n",
       "<tr>\n",
       "  <th>Kurtosis:</th>      <td> 6.924</td> <th>  Cond. No.          </th> <td>3.35e+04</td>\n",
       "</tr>\n",
       "</table><br/><br/>Warnings:<br/>[1] Standard Errors assume that the covariance matrix of the errors is correctly specified.<br/>[2] The condition number is large, 3.35e+04. This might indicate that there are<br/>strong multicollinearity or other numerical problems."
      ],
      "text/plain": [
       "<class 'statsmodels.iolib.summary.Summary'>\n",
       "\"\"\"\n",
       "                              OLS Regression Results                              \n",
       "==================================================================================\n",
       "Dep. Variable:     actual_recovery_amount   R-squared:                       0.309\n",
       "Model:                                OLS   Adj. R-squared:                  0.301\n",
       "Method:                     Least Squares   F-statistic:                     40.42\n",
       "Date:                    Tue, 08 Oct 2019   Prob (F-statistic):           3.06e-15\n",
       "Time:                            11:06:02   Log-Likelihood:                -1279.3\n",
       "No. Observations:                     184   AIC:                             2565.\n",
       "Df Residuals:                         181   BIC:                             2574.\n",
       "Df Model:                               2                                         \n",
       "Covariance Type:                nonrobust                                         \n",
       "============================================================================================\n",
       "                               coef    std err          t      P>|t|      [0.025      0.975]\n",
       "--------------------------------------------------------------------------------------------\n",
       "const                      100.7826    622.656      0.162      0.872   -1127.814    1329.380\n",
       "expected_recovery_amount     0.5410      0.651      0.830      0.407      -0.744       1.826\n",
       "indicator_1000             284.2193     73.987      3.841      0.000     138.231     430.208\n",
       "==============================================================================\n",
       "Omnibus:                       66.393   Durbin-Watson:                   1.922\n",
       "Prob(Omnibus):                  0.000   Jarque-Bera (JB):              188.174\n",
       "Skew:                           1.512   Prob(JB):                     1.38e-41\n",
       "Kurtosis:                       6.924   Cond. No.                     3.35e+04\n",
       "==============================================================================\n",
       "\n",
       "Warnings:\n",
       "[1] Standard Errors assume that the covariance matrix of the errors is correctly specified.\n",
       "[2] The condition number is large, 3.35e+04. This might indicate that there are\n",
       "strong multicollinearity or other numerical problems.\n",
       "\"\"\""
      ]
     },
     "execution_count": 61,
     "metadata": {},
     "output_type": "execute_result"
    }
   ],
   "source": [
    "\n",
    "\n",
    "#  df[['variable_1','variable_2']]\n",
    "# Define X and y\n",
    "X = debt_subset_555_df[['expected_recovery_amount', 'indicator_1000']]\n",
    "# check: print(X)\n",
    "y = debt_subset_555_df['actual_recovery_amount']\n",
    "X = sm.add_constant(X)\n",
    "\n",
    "# Build linear regression model\n",
    "debtmodel_55 = sm.OLS(y,X).fit()\n",
    "\n",
    "# Print the model summary\n",
    "debtmodel_55 .summary()"
   ]
  },
  {
   "cell_type": "markdown",
   "metadata": {},
   "source": [
    "<b>Interpretation</b>: The R-squared or coefficient of determination is with 0.301 low. \n",
    "The variance explained by the model of the overall variance is ca. 30 %. \n",
    "This indicates low goodness of fit, but maybe less critical considering the small sample.\n",
    "The coefficient is positive. This indicates a positive relationship. Given a one unit shift in \n",
    "indicator_1000 the dependent variable actual_recovery_amount shifts  284.2193 units while \n",
    "all other variables are staying constant. The coefficient for indicator_1000 is \n",
    "significantly different from 0 because its p-value is 0.000, which is smaller than 0.05. "
   ]
  },
  {
   "cell_type": "markdown",
   "metadata": {},
   "source": [
    "<b>Conclusion</b>: actual_recovery_amount shifts $284.2193 given a one unit shift in the success case of indicator_1000. Given a 50 Dollar to take action to collect it makes sense to do the effort.\n",
    "This is hereby proven with inferential statistics."
   ]
  },
  {
   "cell_type": "code",
   "execution_count": null,
   "metadata": {},
   "outputs": [],
   "source": []
  }
 ],
 "metadata": {
  "kernelspec": {
   "display_name": "Python 3",
   "language": "python",
   "name": "python3"
  },
  "language_info": {
   "codemirror_mode": {
    "name": "ipython",
    "version": 3
   },
   "file_extension": ".py",
   "mimetype": "text/x-python",
   "name": "python",
   "nbconvert_exporter": "python",
   "pygments_lexer": "ipython3",
   "version": "3.7.3"
  }
 },
 "nbformat": 4,
 "nbformat_minor": 2
}
